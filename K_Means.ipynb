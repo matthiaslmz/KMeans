{
 "cells": [
  {
   "cell_type": "markdown",
   "metadata": {
    "deletable": true,
    "editable": true
   },
   "source": [
    "\n",
    "# Implementation of K-Means Clustering\n"
   ]
  },
  {
   "cell_type": "code",
   "execution_count": null,
   "metadata": {
    "collapsed": false,
    "deletable": true,
    "editable": true
   },
   "outputs": [],
   "source": [
    "import numpy as np\n",
    "import matplotlib.pyplot as plt\n",
    "from mpl_toolkits.mplot3d import Axes3D\n",
    "import pandas as pd\n",
    "from sklearn import preprocessing\n",
    "%matplotlib inline"
   ]
  },
  {
   "cell_type": "code",
   "execution_count": null,
   "metadata": {
    "collapsed": false,
    "deletable": true,
    "editable": true
   },
   "outputs": [],
   "source": [
    "df = pd.read_csv('Tetra.lrn',sep='\\t',skiprows=3,  usecols=[0,1,2,3])"
   ]
  },
  {
   "cell_type": "code",
   "execution_count": null,
   "metadata": {
    "collapsed": false,
    "deletable": true,
    "editable": true,
    "scrolled": true
   },
   "outputs": [],
   "source": [
    "df.info()\n",
    "#Size 400\n",
    "#Dimensions 3\n",
    "#Classes 4"
   ]
  },
  {
   "cell_type": "code",
   "execution_count": null,
   "metadata": {
    "collapsed": false,
    "deletable": true,
    "editable": true
   },
   "outputs": [],
   "source": [
    "df.head()"
   ]
  },
  {
   "cell_type": "code",
   "execution_count": null,
   "metadata": {
    "collapsed": false,
    "deletable": true,
    "editable": true
   },
   "outputs": [],
   "source": [
    "#Set '% Key' column as index\n",
    "df = df.set_index(['% Key'])\n",
    "df.head()"
   ]
  },
  {
   "cell_type": "code",
   "execution_count": null,
   "metadata": {
    "collapsed": false,
    "deletable": true,
    "editable": true,
    "scrolled": false
   },
   "outputs": [],
   "source": [
    "#Normalizing data for each column to be between 0 and 1\n",
    "x= df.values\n",
    "min_max_scaler = preprocessing.MinMaxScaler()\n",
    "X_normalized = min_max_scaler.fit_transform(x)\n",
    "df = pd.DataFrame(X_normalized)"
   ]
  },
  {
   "cell_type": "code",
   "execution_count": null,
   "metadata": {
    "collapsed": false,
    "deletable": true,
    "editable": true,
    "scrolled": false
   },
   "outputs": [],
   "source": [
    "df.head()"
   ]
  },
  {
   "cell_type": "code",
   "execution_count": null,
   "metadata": {
    "collapsed": false,
    "deletable": true,
    "editable": true,
    "scrolled": true
   },
   "outputs": [],
   "source": [
    "df.columns=['C1','C2','C3']\n",
    "df.head()\n",
    "df1 = df.as_matrix()\n",
    "df1[0:5]"
   ]
  },
  {
   "cell_type": "code",
   "execution_count": null,
   "metadata": {
    "collapsed": false,
    "deletable": true,
    "editable": true
   },
   "outputs": [],
   "source": [
    "#Initialize clusters as k randomly selected points from data\n",
    "def initialize_clusters(data, k):\n",
    "    return data[np.random.randint(data.shape[0], size=k)]\n",
    "\n",
    "def euclid_dist(p1,p2):   \n",
    "    return np.sqrt(np.sum((p1-p2)**2))\n",
    "\n",
    "def obj_function(old_centroids,new_centroids):\n",
    "    return np.sum(np.abs(new_centroids-old_centroids))"
   ]
  },
  {
   "cell_type": "code",
   "execution_count": null,
   "metadata": {
    "collapsed": false,
    "deletable": true,
    "editable": true,
    "scrolled": true
   },
   "outputs": [],
   "source": [
    "def k_Means(data,k):\n",
    "    distances = []\n",
    "    rc = initialize_clusters(data,k)\n",
    "    Converge = False\n",
    "    while (Converge == False):\n",
    "        #for i in data:\n",
    "            #for j in rc:\n",
    "                #distances.append(euclid_dist(i,j))\n",
    "        distances = [euclid_dist(i,j) for i in data for j in rc]\n",
    "        reshaped_distances = np.array(distances,dtype=float).reshape(data.shape[0],k)\n",
    "        assigned_Centroids = np.argmin(reshaped_distances, axis=1)\n",
    "        old = rc\n",
    "        \n",
    "        for c in range(k):\n",
    "            rc[c] = np.mean(data[assigned_Centroids == c], 0)\n",
    "            \n",
    "        new = rc\n",
    "        if (obj_function(old,new) < 1**(-100000000000)):\n",
    "            Converge = True  \n",
    "    return rc"
   ]
  },
  {
   "cell_type": "code",
   "execution_count": null,
   "metadata": {
    "collapsed": false,
    "deletable": true,
    "editable": true,
    "scrolled": false
   },
   "outputs": [],
   "source": [
    "k_Means(df1,4)"
   ]
  },
  {
   "cell_type": "code",
   "execution_count": null,
   "metadata": {
    "collapsed": true,
    "deletable": true,
    "editable": true
   },
   "outputs": [],
   "source": [
    "clusters=k_Means(df1,4)\n",
    "k=len(clusters)\n",
    "distances = [euclid_dist(i,j) for i in df1 for j in clusters]\n",
    "reshaped_Distances = np.array(distances,dtype=float).reshape(df1.shape[0],k)\n",
    "assigned_Centroids = np.argmin(reshaped_Distances,axis=1)"
   ]
  },
  {
   "cell_type": "code",
   "execution_count": null,
   "metadata": {
    "collapsed": false,
    "deletable": true,
    "editable": true
   },
   "outputs": [],
   "source": [
    "group_colors = ['blue', 'red', 'green', 'yellow']\n",
    "colors = [group_colors[i] for i in assigned_Centroids]\n",
    "\n",
    "fig = plt.figure()\n",
    "ax = fig.add_subplot(111,projection='3d')\n",
    "ax.scatter(df1[:,0], df1[:,1],df1[:,2], color=colors, alpha=0.4)\n",
    "ax.scatter(clusters[:,0], clusters[:,1], clusters[:,2], color='black', marker='o', lw=2)\n",
    "\n",
    "fig.set_size_inches(10, 6)\n",
    "\n",
    "ax.set_xlabel('X')\n",
    "ax.set_ylabel('Y')\n",
    "ax.set_zlabel('Z');"
   ]
  }
 ],
 "metadata": {
  "kernelspec": {
   "display_name": "Python 3",
   "language": "python",
   "name": "python3"
  },
  "language_info": {
   "codemirror_mode": {
    "name": "ipython",
    "version": 3
   },
   "file_extension": ".py",
   "mimetype": "text/x-python",
   "name": "python",
   "nbconvert_exporter": "python",
   "pygments_lexer": "ipython3",
   "version": "3.5.2"
  }
 },
 "nbformat": 4,
 "nbformat_minor": 1
}
